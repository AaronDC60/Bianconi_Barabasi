{
 "cells": [
  {
   "cell_type": "code",
   "execution_count": 4,
   "id": "15096497",
   "metadata": {},
   "outputs": [],
   "source": [
    "import networkx as nx\n",
    "import random\n",
    "import matplotlib.pyplot as plt"
   ]
  },
  {
   "cell_type": "code",
   "execution_count": 2,
   "id": "f17ab48e",
   "metadata": {},
   "outputs": [],
   "source": [
    "G = nx.read_edgelist(\"soc-youtube-growth.edges\", data=False)"
   ]
  },
  {
   "cell_type": "code",
   "execution_count": null,
   "id": "1214d84a",
   "metadata": {},
   "outputs": [],
   "source": [
    "percentage = 0.05\n",
    "num_nodes = int(percentage * G.number_of_nodes())\n",
    "selected_nodes = random.sample(list(G.nodes()), num_nodes)\n",
    "\n",
    "# Create a subgraph with the selected nodes and their connected edges\n",
    "subgraph = G.subgraph(selected_nodes)\n",
    "\n",
    "\n",
    "\n",
    "# Visualize the graph\n",
    "nx.draw(G, with_labels=True, node_color='lightblue', edge_color='gray', font_weight='bold', linewidths = 0.2)\n",
    "\n",
    "# Show the plot\n",
    "plt.show()"
   ]
  },
  {
   "cell_type": "code",
   "execution_count": null,
   "id": "92aa3bba",
   "metadata": {},
   "outputs": [],
   "source": []
  }
 ],
 "metadata": {
  "kernelspec": {
   "display_name": "Python 3 (ipykernel)",
   "language": "python",
   "name": "python3"
  },
  "language_info": {
   "codemirror_mode": {
    "name": "ipython",
    "version": 3
   },
   "file_extension": ".py",
   "mimetype": "text/x-python",
   "name": "python",
   "nbconvert_exporter": "python",
   "pygments_lexer": "ipython3",
   "version": "3.9.12"
  }
 },
 "nbformat": 4,
 "nbformat_minor": 5
}
