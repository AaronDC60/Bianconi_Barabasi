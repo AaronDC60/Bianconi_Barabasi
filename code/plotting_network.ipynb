{
 "cells": [
  {
   "cell_type": "code",
   "execution_count": 1,
   "id": "f65020f8",
   "metadata": {},
   "outputs": [],
   "source": [
    "import numpy as np\n",
    "import matplotlib.pyplot as plt\n",
    "import networkx as nx\n",
    "import matplotlib.animation as animation\n",
    "from scipy.stats import powerlaw\n",
    "import model\n",
    "import imageio\n"
   ]
  },
  {
   "cell_type": "code",
   "execution_count": 8,
   "id": "a99b2ed4",
   "metadata": {},
   "outputs": [],
   "source": [
    "def log_log_logbin(degree_dist, num_bins = 20):\n",
    "    \"\"\"\n",
    "    Function that plots the degree distrubtion on a log-log plot using logbinning\n",
    "    \"\"\"\n",
    "    # Assert if degree_distirbution is not an array or if length of array is zero\n",
    "    assert isinstance(degree_dist, np.ndarray) and len(degree_dist) > 0, \"degree_dist must be a non-empty list\" \n",
    "    \n",
    "    log_bins = np.logspace(np.log10(min(degree_dist)), np.log10(max(degree_dist)), num = num_bins)\n",
    "    hist, bin_edges = np.histogram(degree_dist, bins=log_bins)\n",
    "\n",
    "    # Calculate bin centers\n",
    "    bin_centers = (bin_edges[:-1] + bin_edges[1:]) / 2\n",
    "\n",
    "    # Plot the histogram in log-log scale\n",
    "    plt.loglog(bin_centers, hist, 'bo', markersize=8)\n",
    "\n",
    "    plt.xlabel('Degree')\n",
    "    plt.ylabel('Frequency')\n",
    "    plt.title('Log-Log Plot with Log Binning for Degree Distribution')\n",
    "    plt.grid(True)\n",
    "    plt.show()"
   ]
  },
  {
   "cell_type": "code",
   "execution_count": 9,
   "id": "a65a2aa5",
   "metadata": {},
   "outputs": [
    {
     "data": {
      "image/png": "[encoded data removed]",
      "text/plain": [
       "<Figure size 640x480 with 1 Axes>"
      ]
     },
     "metadata": {},
     "output_type": "display_data"
    }
   ],
   "source": [
    "r = powerlaw.rvs(0.659, size=1000)\n",
    "log_log_logbin(r)"
   ]
  },
  {
   "cell_type": "code",
   "execution_count": 2,
   "id": "beeddb2d",
   "metadata": {},
   "outputs": [],
   "source": [
    "def gif_creation(time_steps=200, m_zero = 5, fit_dist = 'exponential'):\n",
    "    \"\"\"\n",
    "    Create a GIF animation of a network visualization over time.\n",
    "\n",
    "    Parameters:\n",
    "        time_steps (int): Number of time steps to generate and visualize the network (default: 200).\n",
    "        m_zero (int): Initial value for m parameter in network generation (default: 5).\n",
    "\n",
    "    Returns:\n",
    "        None. Saves the resulting GIF animation as 'example.gif' in the current directory.\n",
    "    \"\"\"\n",
    "    if type(time_steps) != int:\n",
    "            raise TypeError('The parameter time_steps should be an integer instead of %s.'%type(time_steps))\n",
    "    if type(m_zero) != int:\n",
    "        raise TypeError('The parameter m_zero should be an integer instead of %s.'%type(m_zero))    \n",
    "    \n",
    "    # Initialize model\n",
    "    network = model.network(m0= m_zero)\n",
    "    \n",
    "        # Set fit_dist \n",
    "    if fit_dist == 'exponential':\n",
    "        network.set_fitness_distr('exponential') \n",
    "    elif fit_dist == 'uniform':\n",
    "        network.set_fitness_distr('uniform')\n",
    "    elif fit_dist == 'delta':\n",
    "        network.set_fitness_distr('delta')\n",
    "    elif fit_dist == 'ba':\n",
    "        network.set_fitness_distr('ba')\n",
    "    elif fit_dist == 'poisson':\n",
    "        network.set_fitness_distr('poisson')\n",
    "    \n",
    "    # Per timestep: add node and save image of the network\n",
    "    for i in range(time_steps):\n",
    "        network.generate_network(m_zero+i+1)\n",
    "\n",
    "        dict_t = network.graph\n",
    "\n",
    "        G = nx.Graph()\n",
    "\n",
    "        # Add nodes\n",
    "        for node, (edges, fitness) in dict_t.items():\n",
    "            G.add_node(node, fitness=fitness)\n",
    "\n",
    "        # Add edges\n",
    "        for node, (edges, fitness) in dict_t.items():\n",
    "            for neighbor in edges:\n",
    "                G.add_edge(node, neighbor)\n",
    "\n",
    "\n",
    "        pos = nx.spring_layout(G)\n",
    "\n",
    "        # Extract fitness values from the network dictionary\n",
    "        fitness_values = [data['fitness'] for _, data in G.nodes(data=True)]\n",
    "\n",
    "        # Calculate node degrees\n",
    "        node_degrees = dict(G.degree())\n",
    "\n",
    "        # Extract node sizes based on degrees\n",
    "        node_sizes = [50 * node_degrees[node] for node in G.nodes()]\n",
    "\n",
    "        plt.figure(figsize=(8, 6))\n",
    "        nx.draw(G, pos, with_labels=True, node_size=node_sizes, node_color=fitness_values, cmap='coolwarm', edge_color='gray', alpha=0.7)\n",
    "        plt.title(\"Network Visualization\")\n",
    "        plt.savefig('Images_network_evol/image_'+ str(i) + '.png',  dpi=300)\n",
    "    \n",
    "    # Gif creation\n",
    "    frames = []\n",
    "    for i in range(time_steps):\n",
    "        image = imageio.v2.imread(f'Images_network_evol/image_'+ str(i) + '.png')\n",
    "        frames.append(image)\n",
    "    \n",
    "    # Save gif\n",
    "    imageio.mimsave('./network_evol'+ fit_dist+ '.gif', # output gif\n",
    "                frames,          # array of input frames\n",
    "                fps = 5)         # optional: frames per second\n",
    "\n",
    "# gif_creation(fit_dist = 'exponential')\n",
    "# gif_creation(fit_dist = 'uniform')\n",
    "# gif_creation(fit_dist = 'delta')\n",
    "gif_creation(fit_dist = 'ba')\n",
    "gif_creation(fit_dist = 'poisson')"
   ]
  },
  {
   "cell_type": "code",
   "execution_count": null,
   "id": "b89fd815",
   "metadata": {},
   "outputs": [],
   "source": []
  }
 ],
 "metadata": {
  "kernelspec": {
   "display_name": "Python 3 (ipykernel)",
   "language": "python",
   "name": "python3"
  },
  "language_info": {
   "codemirror_mode": {
    "name": "ipython",
    "version": 3
   },
   "file_extension": ".py",
   "mimetype": "text/x-python",
   "name": "python",
   "nbconvert_exporter": "python",
   "pygments_lexer": "ipython3",
   "version": "3.9.13"
  }
 },
 "nbformat": 4,
 "nbformat_minor": 5
}
