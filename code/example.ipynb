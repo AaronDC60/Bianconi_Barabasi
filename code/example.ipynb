{
 "cells": [
  {
   "attachments": {},
   "cell_type": "markdown",
   "metadata": {},
   "source": [
    "### Example notebook"
   ]
  },
  {
   "cell_type": "code",
   "execution_count": 1,
   "metadata": {},
   "outputs": [],
   "source": [
    "# Import the model\n",
    "import model"
   ]
  },
  {
   "cell_type": "code",
   "execution_count": 2,
   "metadata": {},
   "outputs": [],
   "source": [
    "# Initialize a network\n",
    "network = model.network()"
   ]
  },
  {
   "cell_type": "code",
   "execution_count": 3,
   "metadata": {},
   "outputs": [
    {
     "data": {
      "text/plain": [
       "{0: ([4, 2], 0.7283129473013189),\n",
       " 1: ([2, 3], 0.5171004280711419),\n",
       " 2: ([1, 0], 0.7657885519597081),\n",
       " 3: ([1, 4], 0.49817571913725245),\n",
       " 4: ([0, 3], 0.44713652243109425)}"
      ]
     },
     "execution_count": 3,
     "metadata": {},
     "output_type": "execute_result"
    }
   ],
   "source": [
    "network.graph"
   ]
  },
  {
   "cell_type": "code",
   "execution_count": 4,
   "metadata": {},
   "outputs": [
    {
     "data": {
      "text/plain": [
       "{0: ([4, 2], 0.7283129473013189),\n",
       " 1: ([2, 3, 5], 0.5171004280711419),\n",
       " 2: ([1, 0], 0.7657885519597081),\n",
       " 3: ([1, 4, 5], 0.49817571913725245),\n",
       " 4: ([0, 3], 0.44713652243109425),\n",
       " 5: ([1, 3], 0.8956145186874717)}"
      ]
     },
     "execution_count": 4,
     "metadata": {},
     "output_type": "execute_result"
    }
   ],
   "source": [
    "# Add one node at a time\n",
    "network.add_node()\n",
    "network.graph"
   ]
  },
  {
   "cell_type": "code",
   "execution_count": 5,
   "metadata": {},
   "outputs": [
    {
     "data": {
      "text/plain": [
       "{0: ([4, 2], 0.7283129473013189),\n",
       " 1: ([2, 3, 5], 0.5171004280711419),\n",
       " 2: ([1, 0, 6], 0.7657885519597081),\n",
       " 3: ([1, 4, 5], 0.49817571913725245),\n",
       " 4: ([0, 3, 6], 0.44713652243109425),\n",
       " 5: ([1, 3], 0.8956145186874717),\n",
       " 6: ([4, 2], 0.0006924774251035881)}"
      ]
     },
     "execution_count": 5,
     "metadata": {},
     "output_type": "execute_result"
    }
   ],
   "source": [
    "network.add_node()\n",
    "network.graph"
   ]
  },
  {
   "cell_type": "code",
   "execution_count": 6,
   "metadata": {},
   "outputs": [
    {
     "data": {
      "text/plain": [
       "{0: ([4], 0.03668996860743157),\n",
       " 1: ([2, 4], 0.11625981714736),\n",
       " 2: ([1, 3], 0.05012593435201618),\n",
       " 3: ([2, 4], 0.5749147997066236),\n",
       " 4: ([0, 3, 1], 0.060443947248128294)}"
      ]
     },
     "execution_count": 6,
     "metadata": {},
     "output_type": "execute_result"
    }
   ],
   "source": [
    "# Generate the whole network in one step\n",
    "network = model.network()\n",
    "network.graph"
   ]
  },
  {
   "cell_type": "code",
   "execution_count": 7,
   "metadata": {},
   "outputs": [
    {
     "data": {
      "text/plain": [
       "{0: ([4], 0.03668996860743157),\n",
       " 1: ([2, 4, 5, 9], 0.11625981714736),\n",
       " 2: ([1, 3], 0.05012593435201618),\n",
       " 3: ([2, 4, 5, 6, 7, 8, 9, 10, 11, 12, 13, 14], 0.5749147997066236),\n",
       " 4: ([0, 3, 1, 7], 0.060443947248128294),\n",
       " 5: ([3, 1, 6, 8, 10, 14], 0.5873122059416316),\n",
       " 6: ([5, 3], 0.010805532131500262),\n",
       " 7: ([4, 3], 0.962501774734246),\n",
       " 8: ([3, 5, 12, 13], 0.1416203244952614),\n",
       " 9: ([3, 1], 0.7870651465118806),\n",
       " 10: ([5, 3, 11], 0.8325755095672306),\n",
       " 11: ([3, 10], 0.3031313035071026),\n",
       " 12: ([3, 8], 0.741703274333943),\n",
       " 13: ([3, 8], 0.6364037286908676),\n",
       " 14: ([3, 5], 0.26824800139641214)}"
      ]
     },
     "execution_count": 7,
     "metadata": {},
     "output_type": "execute_result"
    }
   ],
   "source": [
    "network.generate_network(15)\n",
    "network.graph"
   ]
  },
  {
   "cell_type": "code",
   "execution_count": null,
   "metadata": {},
   "outputs": [],
   "source": []
  }
 ],
 "metadata": {
  "kernelspec": {
   "display_name": "base",
   "language": "python",
   "name": "python3"
  },
  "language_info": {
   "codemirror_mode": {
    "name": "ipython",
    "version": 3
   },
   "file_extension": ".py",
   "mimetype": "text/x-python",
   "name": "python",
   "nbconvert_exporter": "python",
   "pygments_lexer": "ipython3",
   "version": "3.9.16"
  },
  "orig_nbformat": 4
 },
 "nbformat": 4,
 "nbformat_minor": 2
}
