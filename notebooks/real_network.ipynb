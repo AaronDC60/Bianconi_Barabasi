{
 "cells": [
  {
   "attachments": {},
   "cell_type": "markdown",
   "id": "331519d2",
   "metadata": {},
   "source": [
    "## Analysis of a real network"
   ]
  },
  {
   "attachments": {},
   "cell_type": "markdown",
   "id": "af5ac7c2",
   "metadata": {},
   "source": [
    "#### Imports"
   ]
  },
  {
   "cell_type": "code",
   "execution_count": 1,
   "id": "d6793422",
   "metadata": {},
   "outputs": [],
   "source": [
    "import pandas as pd\n",
    "import matplotlib.pyplot as plt\n",
    "import numpy as np\n",
    "import networkx as nx\n",
    "from scipy.stats import linregress"
   ]
  },
  {
   "attachments": {},
   "cell_type": "markdown",
   "id": "c505302f",
   "metadata": {},
   "source": [
    "#### Read in the network"
   ]
  },
  {
   "cell_type": "code",
   "execution_count": 2,
   "id": "50fac8ac",
   "metadata": {},
   "outputs": [
    {
     "data": {
      "text/html": [
       "<div>\n",
       "<style scoped>\n",
       "    .dataframe tbody tr th:only-of-type {\n",
       "        vertical-align: middle;\n",
       "    }\n",
       "\n",
       "    .dataframe tbody tr th {\n",
       "        vertical-align: top;\n",
       "    }\n",
       "\n",
       "    .dataframe thead th {\n",
       "        text-align: right;\n",
       "    }\n",
       "</style>\n",
       "<table border=\"1\" class=\"dataframe\">\n",
       "  <thead>\n",
       "    <tr style=\"text-align: right;\">\n",
       "      <th></th>\n",
       "      <th>SOURCE</th>\n",
       "      <th>TARGET</th>\n",
       "      <th>RATING</th>\n",
       "      <th>TIME</th>\n",
       "    </tr>\n",
       "  </thead>\n",
       "  <tbody>\n",
       "    <tr>\n",
       "      <th>0</th>\n",
       "      <td>7188</td>\n",
       "      <td>1</td>\n",
       "      <td>10</td>\n",
       "      <td>2014-08-08 04:00:00</td>\n",
       "    </tr>\n",
       "    <tr>\n",
       "      <th>1</th>\n",
       "      <td>430</td>\n",
       "      <td>1</td>\n",
       "      <td>10</td>\n",
       "      <td>2013-08-15 04:00:00</td>\n",
       "    </tr>\n",
       "    <tr>\n",
       "      <th>2</th>\n",
       "      <td>3134</td>\n",
       "      <td>1</td>\n",
       "      <td>10</td>\n",
       "      <td>2013-05-28 04:00:00</td>\n",
       "    </tr>\n",
       "    <tr>\n",
       "      <th>3</th>\n",
       "      <td>3026</td>\n",
       "      <td>1</td>\n",
       "      <td>10</td>\n",
       "      <td>2012-10-12 04:00:00</td>\n",
       "    </tr>\n",
       "    <tr>\n",
       "      <th>4</th>\n",
       "      <td>3010</td>\n",
       "      <td>1</td>\n",
       "      <td>10</td>\n",
       "      <td>2012-09-17 04:00:00</td>\n",
       "    </tr>\n",
       "    <tr>\n",
       "      <th>...</th>\n",
       "      <td>...</td>\n",
       "      <td>...</td>\n",
       "      <td>...</td>\n",
       "      <td>...</td>\n",
       "    </tr>\n",
       "    <tr>\n",
       "      <th>24181</th>\n",
       "      <td>7604</td>\n",
       "      <td>7601</td>\n",
       "      <td>10</td>\n",
       "      <td>2013-03-26 04:00:00</td>\n",
       "    </tr>\n",
       "    <tr>\n",
       "      <th>24182</th>\n",
       "      <td>7601</td>\n",
       "      <td>7604</td>\n",
       "      <td>10</td>\n",
       "      <td>2013-03-26 04:00:00</td>\n",
       "    </tr>\n",
       "    <tr>\n",
       "      <th>24183</th>\n",
       "      <td>7604</td>\n",
       "      <td>7602</td>\n",
       "      <td>10</td>\n",
       "      <td>2013-03-26 04:00:00</td>\n",
       "    </tr>\n",
       "    <tr>\n",
       "      <th>24184</th>\n",
       "      <td>7602</td>\n",
       "      <td>7604</td>\n",
       "      <td>10</td>\n",
       "      <td>2013-03-26 04:00:00</td>\n",
       "    </tr>\n",
       "    <tr>\n",
       "      <th>24185</th>\n",
       "      <td>7604</td>\n",
       "      <td>7603</td>\n",
       "      <td>-10</td>\n",
       "      <td>2013-03-26 04:00:00</td>\n",
       "    </tr>\n",
       "  </tbody>\n",
       "</table>\n",
       "<p>24186 rows × 4 columns</p>\n",
       "</div>"
      ],
      "text/plain": [
       "       SOURCE  TARGET  RATING                TIME\n",
       "0        7188       1      10 2014-08-08 04:00:00\n",
       "1         430       1      10 2013-08-15 04:00:00\n",
       "2        3134       1      10 2013-05-28 04:00:00\n",
       "3        3026       1      10 2012-10-12 04:00:00\n",
       "4        3010       1      10 2012-09-17 04:00:00\n",
       "...       ...     ...     ...                 ...\n",
       "24181    7604    7601      10 2013-03-26 04:00:00\n",
       "24182    7601    7604      10 2013-03-26 04:00:00\n",
       "24183    7604    7602      10 2013-03-26 04:00:00\n",
       "24184    7602    7604      10 2013-03-26 04:00:00\n",
       "24185    7604    7603     -10 2013-03-26 04:00:00\n",
       "\n",
       "[24186 rows x 4 columns]"
      ]
     },
     "execution_count": 2,
     "metadata": {},
     "output_type": "execute_result"
    }
   ],
   "source": [
    "colnames=['SOURCE', 'TARGET', 'RATING', 'TIME'] \n",
    "df = pd.read_csv('../data/soc-sign-bitcoinalpha.csv.gz', names=colnames, header=None)\n",
    "df.drop('RATING', axis=1) \n",
    "df['TIME'] = pd.to_datetime(df['TIME'], unit='s')\n",
    "df"
   ]
  },
  {
   "attachments": {},
   "cell_type": "markdown",
   "id": "153742f5",
   "metadata": {},
   "source": [
    "#### Analysis"
   ]
  },
  {
   "cell_type": "code",
   "execution_count": 3,
   "id": "eebbd299",
   "metadata": {},
   "outputs": [
    {
     "data": {
      "image/png": "[encoded data removed]",
      "text/plain": [
       "<Figure size 720x432 with 1 Axes>"
      ]
     },
     "metadata": {
      "needs_background": "light"
     },
     "output_type": "display_data"
    }
   ],
   "source": [
    "# Count the number of entries for each timestamp\n",
    "entries_per_timestamp = df['TIME'].value_counts().sort_index()\n",
    "\n",
    "# Create the histogram\n",
    "plt.figure(figsize=(10, 6))\n",
    "entries_per_timestamp.plot(kind='bar')\n",
    "plt.xlabel('Timestamp')\n",
    "plt.ylabel('Number of Entries')\n",
    "plt.title('Histogram of Entries per Timestamp')\n",
    "plt.show()"
   ]
  },
  {
   "cell_type": "code",
   "execution_count": 4,
   "id": "87110e0d",
   "metadata": {},
   "outputs": [
    {
     "data": {
      "image/png": "[encoded data removed]",
      "text/plain": [
       "<Figure size 720x432 with 1 Axes>"
      ]
     },
     "metadata": {
      "needs_background": "light"
     },
     "output_type": "display_data"
    }
   ],
   "source": [
    "\n",
    "# Create the histogram\n",
    "plt.figure(figsize=(10, 6))\n",
    "entries_per_timestamp[1000:].plot(kind='bar')\n",
    "plt.xlabel('Timestamp')\n",
    "plt.ylabel('Number of Entries')\n",
    "plt.title('Histogram of Entries per Timestamp')\n",
    "plt.show()"
   ]
  },
  {
   "cell_type": "code",
   "execution_count": 5,
   "id": "d1d6e83b",
   "metadata": {},
   "outputs": [],
   "source": [
    "# Extract the edges from the datafram\n",
    "edges = df[['SOURCE', 'TARGET']].values.tolist()\n",
    "edgesnew = [(x, y) for x, y in edges]"
   ]
  },
  {
   "cell_type": "code",
   "execution_count": 6,
   "id": "381d7e10",
   "metadata": {},
   "outputs": [],
   "source": [
    "# Create a networkx graph\n",
    "\n",
    "G = nx.Graph()\n",
    "# Add edges to the graph\n",
    "G.add_edges_from(edgesnew)"
   ]
  },
  {
   "attachments": {},
   "cell_type": "markdown",
   "id": "84d94501",
   "metadata": {},
   "source": [
    "##### Degree distribution"
   ]
  },
  {
   "cell_type": "code",
   "execution_count": 7,
   "id": "97f542a1",
   "metadata": {},
   "outputs": [
    {
     "data": {
      "image/png": "[encoded data removed]",
      "text/plain": [
       "<Figure size 720x504 with 1 Axes>"
      ]
     },
     "metadata": {
      "needs_background": "light"
     },
     "output_type": "display_data"
    }
   ],
   "source": [
    "# Calculate the degree of each node in the 'SOURCE' column\n",
    "degree_distribution = dict(G.degree())\n",
    "\n",
    "# Linear scale\n",
    "# Create a histogram of the degree distribution\n",
    "plt.figure(figsize = (10, 7))\n",
    "plt.hist(degree_distribution.values(), bins=range(max(degree_distribution.values()) + 2), density = True)\n",
    "plt.xlabel('Degree')\n",
    "plt.ylabel('Count')\n",
    "plt.title('Degree Distribution of Nodes in SOURCE Column (Undirected Graph)')\n",
    "plt.show()"
   ]
  },
  {
   "cell_type": "code",
   "execution_count": 8,
   "id": "5cb24c0e",
   "metadata": {},
   "outputs": [],
   "source": [
    "# Convert to loglog\n",
    "x = np.array(list(degree_distribution.keys()))\n",
    "y = np.array(list(degree_distribution.values()))\n",
    "\n",
    "x_delta = np.delete(x, np.argwhere(y==0))\n",
    "y_delta = np.delete(y, np.argwhere(y==0))\n",
    "\n",
    "\n",
    "xlog = np.log10(x_delta)\n",
    "ylog = np.log10(y_delta)"
   ]
  },
  {
   "cell_type": "code",
   "execution_count": 9,
   "id": "5139c7f7",
   "metadata": {},
   "outputs": [
    {
     "name": "stdout",
     "output_type": "stream",
     "text": [
      "The power law exponent of the degree distribution using a delta fitness distribution is 0.814\n"
     ]
    }
   ],
   "source": [
    "# Linear regression (slope is the exponent)\n",
    "slope_delta, intercept_delta, r_value_delta, _, _ = linregress(xlog, ylog)\n",
    "\n",
    "# Regression line\n",
    "y_fit_delta = 10**intercept_delta * x_delta**(slope_delta)\n",
    "#y_analytic_delta = x_delta**(-3)\n",
    "y_analytic_delta = 1/ np.power(x_delta, 3)\n",
    "\n",
    "print('The power law exponent of the degree distribution using a delta fitness distribution is %s'% np.round(-slope_delta, 3))"
   ]
  },
  {
   "cell_type": "code",
   "execution_count": 10,
   "id": "ce024c79",
   "metadata": {},
   "outputs": [
    {
     "data": {
      "image/png": "[encoded data removed]",
      "text/plain": [
       "<Figure size 720x504 with 1 Axes>"
      ]
     },
     "metadata": {
      "needs_background": "light"
     },
     "output_type": "display_data"
    }
   ],
   "source": [
    "# Plot of the degree distribution\n",
    "plt.figure(figsize=(10, 7))\n",
    "plt.loglog(x, y, 'bo', markersize=8)\n",
    "plt.loglog(x_delta, y_fit_delta, color = 'blue', linestyle = 'dashed')\n",
    "\n",
    "plt.xlabel('$k$', fontsize=20)\n",
    "plt.ylabel('$p_k$', fontsize=20)\n",
    "plt.xticks(fontsize=18)\n",
    "plt.yticks(fontsize=18)\n",
    "\n",
    "plt.grid(axis='y')\n",
    "plt.show()"
   ]
  },
  {
   "cell_type": "code",
   "execution_count": 11,
   "id": "6ae75ad0",
   "metadata": {},
   "outputs": [
    {
     "name": "stdout",
     "output_type": "stream",
     "text": [
      "3783\n"
     ]
    }
   ],
   "source": [
    "# List to store the degrees of nodes\n",
    "degrees = []\n",
    "\n",
    "# Iterate over nodes and get their degrees\n",
    "for node in G.nodes():\n",
    "    degree = G.degree(node)\n",
    "    degrees.append(degree)\n",
    "\n",
    "print(len(degrees))"
   ]
  },
  {
   "attachments": {},
   "cell_type": "markdown",
   "id": "48fdf784",
   "metadata": {},
   "source": [
    "##### Properties of the network"
   ]
  },
  {
   "cell_type": "code",
   "execution_count": 12,
   "id": "3520c4c8",
   "metadata": {
    "scrolled": true
   },
   "outputs": [
    {
     "name": "stdout",
     "output_type": "stream",
     "text": [
      "Average Path Length: 3.570840431393606\n",
      "Average Clustering Coefficient: 0.1766290303590772\n"
     ]
    }
   ],
   "source": [
    "# Add nodes and edges to the graph (assuming the graph is already populated)\n",
    "\n",
    "# Get the largest connected component\n",
    "largest_component = max(nx.connected_components(G), key=len)\n",
    "subgraph = G.subgraph(largest_component)\n",
    "\n",
    "# Calculate average path length\n",
    "avg_path_length = nx.average_shortest_path_length(subgraph)\n",
    "\n",
    "# Calculate average clustering coefficient\n",
    "avg_clustering_coefficient = nx.average_clustering(G)\n",
    "\n",
    "print(\"Average Path Length:\", avg_path_length)\n",
    "print(\"Average Clustering Coefficient:\", avg_clustering_coefficient)"
   ]
  },
  {
   "cell_type": "code",
   "execution_count": 13,
   "id": "31009d14",
   "metadata": {},
   "outputs": [
    {
     "name": "stdout",
     "output_type": "stream",
     "text": [
      "Highly connected hubs:\n",
      "Node: 1 Degree Centrality: 0.1351136964569011\n",
      "Node: 8 Degree Centrality: 0.07377049180327869\n",
      "Node: 3 Degree Centrality: 0.06953992596509784\n",
      "Node: 2 Degree Centrality: 0.06319407720782655\n",
      "Node: 11 Degree Centrality: 0.06292966684294024\n",
      "Assortativity coefficient: -0.16851576112150454\n",
      "Initial number of connected components: 5\n",
      "Number of connected components after attacks: 338\n",
      "Clustering coefficient after attack: 0.1262386628418399\n"
     ]
    }
   ],
   "source": [
    "# Calculate degree centrality\n",
    "degree_centrality = nx.degree_centrality(G)\n",
    "\n",
    "# Sort nodes by degree centrality in descending order\n",
    "sorted_nodes = sorted(degree_centrality, key=degree_centrality.get, reverse=True)\n",
    "\n",
    "# Print top 5 highly connected hubs\n",
    "print(\"Highly connected hubs:\")\n",
    "for node in sorted_nodes[:5]:\n",
    "    print(\"Node:\", node, \"Degree Centrality:\", degree_centrality[node])\n",
    "\n",
    "\n",
    "r = nx.degree_assortativity_coefficient(G)\n",
    "print('Assortativity coefficient:', r)\n",
    "\n",
    "num_attacks = 10  # Number of hubs to remove\n",
    "removed_hubs = sorted_nodes[:num_attacks]\n",
    "\n",
    "print(\"Initial number of connected components:\", nx.number_connected_components(G))\n",
    "\n",
    "    # Remove the targeted hubs\n",
    "for hub in removed_hubs:\n",
    "    G.remove_node(hub)\n",
    "\n",
    "print(\"Number of connected components after attacks:\", nx.number_connected_components(G))\n",
    "\n",
    "# Calculate clustering coefficient of the Barabási-Albert network\n",
    "clustering_coefficient = nx.average_clustering(G)\n",
    "print(\"Clustering coefficient after attack:\", clustering_coefficient)\n",
    "    "
   ]
  }
 ],
 "metadata": {
  "kernelspec": {
   "display_name": "Python 3 (ipykernel)",
   "language": "python",
   "name": "python3"
  },
  "language_info": {
   "codemirror_mode": {
    "name": "ipython",
    "version": 3
   },
   "file_extension": ".py",
   "mimetype": "text/x-python",
   "name": "python",
   "nbconvert_exporter": "python",
   "pygments_lexer": "ipython3",
   "version": "3.9.16"
  }
 },
 "nbformat": 4,
 "nbformat_minor": 5
}
