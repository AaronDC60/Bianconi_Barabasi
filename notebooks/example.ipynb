{
 "cells": [
  {
   "attachments": {},
   "cell_type": "markdown",
   "metadata": {},
   "source": [
    "### Example notebook"
   ]
  },
  {
   "cell_type": "code",
   "execution_count": 1,
   "metadata": {},
   "outputs": [],
   "source": [
    "# Import the model\n",
    "import sys\n",
    "sys.path.insert(0, '../')\n",
    "\n",
    "from src import model"
   ]
  },
  {
   "cell_type": "code",
   "execution_count": 4,
   "metadata": {},
   "outputs": [],
   "source": [
    "# Initialize a network\n",
    "network = model.network()\n",
    "network.set_fitness_distr('uniform')"
   ]
  },
  {
   "cell_type": "code",
   "execution_count": 5,
   "metadata": {},
   "outputs": [
    {
     "data": {
      "text/plain": [
       "{0: ([1, 2], 0.20810580356290742),\n",
       " 1: ([0], 0.46796636176235396),\n",
       " 2: ([0], 0.5793754202085439)}"
      ]
     },
     "execution_count": 5,
     "metadata": {},
     "output_type": "execute_result"
    }
   ],
   "source": [
    "network.graph"
   ]
  },
  {
   "cell_type": "code",
   "execution_count": 6,
   "metadata": {},
   "outputs": [
    {
     "data": {
      "text/plain": [
       "{0: ([1, 2], 0.20810580356290742),\n",
       " 1: ([0, 3], 0.46796636176235396),\n",
       " 2: ([0, 3], 0.5793754202085439),\n",
       " 3: ([1, 2], 0.1661843534317522)}"
      ]
     },
     "execution_count": 6,
     "metadata": {},
     "output_type": "execute_result"
    }
   ],
   "source": [
    "# Add one node at a time\n",
    "network.add_node()\n",
    "network.graph"
   ]
  },
  {
   "cell_type": "code",
   "execution_count": 7,
   "metadata": {},
   "outputs": [
    {
     "data": {
      "text/plain": [
       "{0: ([1, 2, 4], 0.20810580356290742),\n",
       " 1: ([0, 3, 4], 0.46796636176235396),\n",
       " 2: ([0, 3], 0.5793754202085439),\n",
       " 3: ([1, 2], 0.1661843534317522),\n",
       " 4: ([0, 1], 0.938529191142106)}"
      ]
     },
     "execution_count": 7,
     "metadata": {},
     "output_type": "execute_result"
    }
   ],
   "source": [
    "network.add_node()\n",
    "network.graph"
   ]
  },
  {
   "cell_type": "code",
   "execution_count": 9,
   "metadata": {},
   "outputs": [
    {
     "data": {
      "text/plain": [
       "{0: ([2], 0.19939022935916395),\n",
       " 1: ([2], 0.4032489314191632),\n",
       " 2: ([0, 1], 0.9814174856887925)}"
      ]
     },
     "execution_count": 9,
     "metadata": {},
     "output_type": "execute_result"
    }
   ],
   "source": [
    "# Generate the whole network in one step\n",
    "network = model.network()\n",
    "network.set_fitness_distr('uniform')\n",
    "network.graph"
   ]
  },
  {
   "cell_type": "code",
   "execution_count": 10,
   "metadata": {},
   "outputs": [
    {
     "data": {
      "text/plain": [
       "{0: ([2, 3], 0.19939022935916395),\n",
       " 1: ([2, 5, 8], 0.4032489314191632),\n",
       " 2: ([0, 1, 3, 4, 5, 6, 8, 9, 10, 12, 13, 14], 0.9814174856887925),\n",
       " 3: ([0, 2, 4, 6, 7, 12], 0.4873116614624071),\n",
       " 4: ([2, 3, 7, 9, 11], 0.4485098774021786),\n",
       " 5: ([1, 2, 10], 0.14941427176336664),\n",
       " 6: ([2, 3, 11, 13], 0.806015461920629),\n",
       " 7: ([3, 4], 0.2900398109990896),\n",
       " 8: ([1, 2], 0.6240130609365925),\n",
       " 9: ([4, 2], 0.003283296562154092),\n",
       " 10: ([2, 5], 0.4515231868082793),\n",
       " 11: ([6, 4], 0.6172491562048154),\n",
       " 12: ([2, 3], 0.1260695098314154),\n",
       " 13: ([6, 2, 14], 0.4234892690186325),\n",
       " 14: ([2, 13], 0.6164003843511907)}"
      ]
     },
     "execution_count": 10,
     "metadata": {},
     "output_type": "execute_result"
    }
   ],
   "source": [
    "network.generate_network(15)\n",
    "network.graph"
   ]
  },
  {
   "cell_type": "code",
   "execution_count": null,
   "metadata": {},
   "outputs": [],
   "source": []
  }
 ],
 "metadata": {
  "kernelspec": {
   "display_name": "base",
   "language": "python",
   "name": "python3"
  },
  "language_info": {
   "codemirror_mode": {
    "name": "ipython",
    "version": 3
   },
   "file_extension": ".py",
   "mimetype": "text/x-python",
   "name": "python",
   "nbconvert_exporter": "python",
   "pygments_lexer": "ipython3",
   "version": "3.9.16"
  },
  "orig_nbformat": 4
 },
 "nbformat": 4,
 "nbformat_minor": 2
}
