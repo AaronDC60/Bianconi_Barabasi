{
 "cells": [
  {
   "attachments": {},
   "cell_type": "markdown",
   "metadata": {},
   "source": [
    "## Fitness estimation for model generated networks"
   ]
  },
  {
   "attachments": {},
   "cell_type": "markdown",
   "metadata": {},
   "source": [
    "#### Imports"
   ]
  },
  {
   "cell_type": "code",
   "execution_count": 1,
   "metadata": {},
   "outputs": [],
   "source": [
    "import numpy as np\n",
    "from matplotlib import pyplot as plt\n",
    "\n",
    "import sys\n",
    "sys.path.insert(0, '../')\n",
    "from src import model\n",
    "from src import fitness\n",
    "from src import utils"
   ]
  },
  {
   "attachments": {},
   "cell_type": "markdown",
   "metadata": {},
   "source": [
    "#### Estimation for uniform distribution"
   ]
  },
  {
   "cell_type": "code",
   "execution_count": 2,
   "metadata": {},
   "outputs": [
    {
     "name": "stderr",
     "output_type": "stream",
     "text": [
      "/Users/aarondeclercq/Desktop/bb/notebooks/../src/utils.py:130: RuntimeWarning: divide by zero encountered in log\n",
      "  lnt = [np.log(t) for t in times]\n",
      "/opt/miniconda3/lib/python3.9/site-packages/numpy/lib/function_base.py:2674: RuntimeWarning: invalid value encountered in subtract\n",
      "  X -= avg[:, None]\n"
     ]
    }
   ],
   "source": [
    "# Parameters\n",
    "size = 5000\n",
    "iterations = 100\n",
    "\n",
    "# Generate random uniform fitness values\n",
    "rng = np.random.default_rng(1234)\n",
    "fitness_data = rng.random(size)\n",
    "\n",
    "times, node_degrees = utils.simulate(size, iterations, fitness_data)\n",
    "\n",
    "mean_degrees_uniform = utils.get_means(node_degrees)\n",
    "degrees_new, times_new = mean_degrees_uniform, times[0]\n",
    "\n",
    "beta = utils.estimate_beta(degrees_new, times_new)"
   ]
  },
  {
   "cell_type": "code",
   "execution_count": 4,
   "metadata": {},
   "outputs": [
    {
     "data": {
      "image/png": "[encoded data removed]",
      "text/plain": [
       "<Figure size 720x504 with 1 Axes>"
      ]
     },
     "metadata": {
      "needs_background": "light"
     },
     "output_type": "display_data"
    }
   ],
   "source": [
    "# Plotting the fitness (beta) distribution histogram\n",
    "plt.figure(figsize=(10,7))\n",
    "plt.hist(beta, bins=100)\n",
    "plt.xlabel('Fitness')\n",
    "plt.ylabel('Frequency')\n",
    "plt.title(r'Estimation of uniform $ \\rho(\\eta) $ ')\n",
    "plt.xlim(0,1)\n",
    "plt.savefig('../results/uniform_fitness_estimation.png', dpi=300)"
   ]
  },
  {
   "attachments": {},
   "cell_type": "markdown",
   "metadata": {},
   "source": [
    "#### Estimation for exponential distribution"
   ]
  },
  {
   "cell_type": "code",
   "execution_count": 5,
   "metadata": {},
   "outputs": [
    {
     "name": "stderr",
     "output_type": "stream",
     "text": [
      "/Users/aarondeclercq/Desktop/bb/notebooks/../src/utils.py:130: RuntimeWarning: divide by zero encountered in log\n",
      "  lnt = [np.log(t) for t in times]\n",
      "/opt/miniconda3/lib/python3.9/site-packages/numpy/lib/function_base.py:2674: RuntimeWarning: invalid value encountered in subtract\n",
      "  X -= avg[:, None]\n"
     ]
    }
   ],
   "source": [
    "# Generate random exponential fitness values\n",
    "rng = np.random.default_rng(1234)\n",
    "fitness_data = rng.exponential(1.0, size)\n",
    "\n",
    "times, node_degrees = utils.simulate(size, iterations, fitness_data)\n",
    "\n",
    "mean_degrees = utils.get_means(node_degrees)\n",
    "degrees_new, times_new = mean_degrees, times[0]\n",
    "\n",
    "beta = utils.estimate_beta(degrees_new, times_new)"
   ]
  },
  {
   "cell_type": "code",
   "execution_count": 6,
   "metadata": {},
   "outputs": [
    {
     "data": {
      "image/png": "[encoded data removed]",
      "text/plain": [
       "<Figure size 432x288 with 1 Axes>"
      ]
     },
     "metadata": {
      "needs_background": "light"
     },
     "output_type": "display_data"
    }
   ],
   "source": [
    "plt.figure(figsize=(10,7))\n",
    "plt.hist(beta, bins=40)\n",
    "plt.xlabel('Fitness')\n",
    "plt.ylabel('Frequency')\n",
    "plt.title(r'Estimation of exponential $ \\rho(\\eta) $ ')\n",
    "plt.savefig('../results/exp_fitness_estimation.png', dpi=300)"
   ]
  },
  {
   "attachments": {},
   "cell_type": "markdown",
   "metadata": {},
   "source": [
    "#### Estimation for beta distribution"
   ]
  },
  {
   "cell_type": "code",
   "execution_count": 12,
   "metadata": {},
   "outputs": [],
   "source": [
    "size = 3000\n",
    "iterations = 20\n",
    "\n",
    "# Generate values from beta distribution\n",
    "generator = fitness.generator()\n",
    "\n",
    "generator.set_current_distribution('beta')\n",
    "generator.set_param_beta(2, 2)\n",
    "\n",
    "y_samples = []\n",
    "for _ in range(size):\n",
    "    y_samples.append(generator.generate_value())\n",
    "\n",
    "fitness_data = y_samples\n",
    "\n",
    "# Estimate distribution\n",
    "times, node_degrees = utils.simulate(size, iterations, fitness_data)\n",
    "\n",
    "mean_degrees = utils.get_means(node_degrees)\n",
    "\n",
    "degrees_new, times_new = mean_degrees, times[0]\n",
    "\n",
    "beta = utils.estimate_beta(degrees_new, times_new)"
   ]
  },
  {
   "cell_type": "code",
   "execution_count": 13,
   "metadata": {},
   "outputs": [
    {
     "data": {
      "image/png": "[encoded data removed]",
      "text/plain": [
       "<Figure size 720x504 with 1 Axes>"
      ]
     },
     "metadata": {
      "needs_background": "light"
     },
     "output_type": "display_data"
    }
   ],
   "source": [
    "plt.figure(figsize=(10,7))\n",
    "plt.hist(beta, bins=300)\n",
    "plt.xlabel('Beta')\n",
    "plt.ylabel('Frequency')\n",
    "plt.title('Fitness Distribution')\n",
    "plt.xlim(0, 1)\n",
    "plt.savefig('../results/beta_fitness_estimation.png')"
   ]
  },
  {
   "attachments": {},
   "cell_type": "markdown",
   "metadata": {},
   "source": [
    "#### Estimation for Bose-Einstein fitness distribution"
   ]
  },
  {
   "cell_type": "code",
   "execution_count": 9,
   "metadata": {},
   "outputs": [
    {
     "name": "stderr",
     "output_type": "stream",
     "text": [
      "/Users/aarondeclercq/Desktop/bb/notebooks/../src/utils.py:130: RuntimeWarning: divide by zero encountered in log\n",
      "  lnt = [np.log(t) for t in times]\n",
      "/opt/miniconda3/lib/python3.9/site-packages/numpy/lib/function_base.py:2674: RuntimeWarning: invalid value encountered in subtract\n",
      "  X -= avg[:, None]\n"
     ]
    }
   ],
   "source": [
    "# Generate values\n",
    "generator = fitness.generator()\n",
    "generator.set_current_distribution('be')\n",
    "\n",
    "n_samples = 5000\n",
    "y_samples = []\n",
    "\n",
    "for _ in range(n_samples):\n",
    "    y_samples.append(generator.generate_value())\n",
    "\n",
    "fitness_data = y_samples\n",
    "\n",
    "\n",
    "size = n_samples\n",
    "iterations = 100\n",
    "\n",
    "times, node_degrees = utils.simulate(size, iterations, fitness_data)\n",
    "mean_degrees_be = utils.get_means(node_degrees)\n",
    "degrees_new, times_new = mean_degrees_be, times[0]\n",
    "\n",
    "beta = utils.estimate_beta(degrees_new, times_new)"
   ]
  },
  {
   "cell_type": "code",
   "execution_count": 11,
   "metadata": {},
   "outputs": [
    {
     "data": {
      "image/png": "[encoded data removed]",
      "text/plain": [
       "<Figure size 720x504 with 1 Axes>"
      ]
     },
     "metadata": {
      "needs_background": "light"
     },
     "output_type": "display_data"
    }
   ],
   "source": [
    "plt.figure(figsize=(10,7))\n",
    "plt.hist(beta, bins=100)\n",
    "plt.xlabel('Beta')\n",
    "plt.ylabel('Frequency')\n",
    "plt.title(r'Estimation of Bose-Einstein distribution of $ \\rho(\\eta) $ ')\n",
    "plt.xlim(0, 1)\n",
    "plt.savefig('../results/be_fitness_estimation.png', dpi=300)"
   ]
  },
  {
   "cell_type": "code",
   "execution_count": null,
   "metadata": {},
   "outputs": [],
   "source": []
  }
 ],
 "metadata": {
  "kernelspec": {
   "display_name": "Python 3",
   "language": "python",
   "name": "python3"
  },
  "language_info": {
   "codemirror_mode": {
    "name": "ipython",
    "version": 3
   },
   "file_extension": ".py",
   "mimetype": "text/x-python",
   "name": "python",
   "nbconvert_exporter": "python",
   "pygments_lexer": "ipython3",
   "version": "3.9.16"
  },
  "orig_nbformat": 4
 },
 "nbformat": 4,
 "nbformat_minor": 2
}
